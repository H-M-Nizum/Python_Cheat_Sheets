{
 "cells": [
  {
   "cell_type": "markdown",
   "id": "21f59087-42c1-4981-a28f-70bfb386295c",
   "metadata": {},
   "source": [
    "## Variables\n",
    " > Think of a variable as a container to hold information. You can have different variables that hold different types of information.\n",
    " > Python has no command for declaring a variable. \r\n",
    "A variable is created the moment you first assign a value to i\n",
    " > A variable can have a short name (like x and y) or a more descriptive name (age, carname, total_volume).\n",
    "#### Rules for Python variables:\r",
    "- Must start with a letter or the underscore character (`_`).\n",
    "- Cannot start with a number.\n",
    "- Contain alphanumeric characters and underscores (A-Z, a-z, 0-9, and `_`).\n",
    "- Case-sensitive (`name`, `Name`,  `NAME` are three different variables).\n",
    "- variable cannot be any of the Python keywords.rds. t."
   ]
  },
  {
   "cell_type": "code",
   "execution_count": 2,
   "id": "9278f1d3-9045-4f80-abf2-f4ae6b9b3db1",
   "metadata": {},
   "outputs": [
    {
     "data": {
      "text/plain": [
       "4"
      ]
     },
     "execution_count": 2,
     "metadata": {},
     "output_type": "execute_result"
    }
   ],
   "source": [
    "# Created and assigned a value\n",
    "x = 4\n",
    "x"
   ]
  },
  {
   "cell_type": "code",
   "execution_count": 3,
   "id": "d8877e0d-094c-4128-a13f-ce538c8e0ef4",
   "metadata": {},
   "outputs": [
    {
     "name": "stdout",
     "output_type": "stream",
     "text": [
      "4\n"
     ]
    }
   ],
   "source": [
    "# Print The variable value\n",
    "print(x)"
   ]
  },
  {
   "cell_type": "code",
   "execution_count": 4,
   "id": "edb0f4da-4f27-4f9e-a41e-de78c4425c79",
   "metadata": {},
   "outputs": [],
   "source": [
    "# It's very simple to create and assign a value to a variable in python."
   ]
  },
  {
   "cell_type": "markdown",
   "id": "22f884d2-4689-4ecb-9770-bba2a5dcfa6d",
   "metadata": {},
   "source": [
    "## Data Type\n",
    ">Variables can store data of different types, and different types can do different things.\n",
    "\n",
    "Python has the following data types built-in by default, in these categories:\r\n",
    "- **Text Type:** `str`\n",
    "- **Numeric Types:** `int`, `float`\n",
    "- **Sequence Types:** `list`, `tuple`, `range`\n",
    "- **Mapping Type:** `dict`\n",
    "- **Set Types:** `set`, `frozenset`\n",
    "- **Boolean Type:** `bool`\n",
    "- **Binary Types:** `bytes`, `bytearray`\n",
    "- **None Type:** `NoneType`\tNoneType"
   ]
  },
  {
   "cell_type": "code",
   "execution_count": 10,
   "id": "0628a711-5330-4fd6-9a8f-ee9f86286cc1",
   "metadata": {},
   "outputs": [
    {
     "name": "stdout",
     "output_type": "stream",
     "text": [
      "<class 'str'>\n"
     ]
    }
   ],
   "source": [
    "# String\n",
    "a = \"Python\"\n",
    "b = 'Python'\n",
    "print(type(a))"
   ]
  },
  {
   "cell_type": "code",
   "execution_count": 11,
   "id": "c0a313a1-4da5-46b0-b7d2-3d66b0d68175",
   "metadata": {},
   "outputs": [
    {
     "name": "stdout",
     "output_type": "stream",
     "text": [
      "11\n",
      "<class 'int'>\n"
     ]
    }
   ],
   "source": [
    "# Integer\n",
    "x = 3\n",
    "y = 8\n",
    "print(x + y)\n",
    "print(type(x))"
   ]
  },
  {
   "cell_type": "code",
   "execution_count": 12,
   "id": "7f648224-b115-4f25-acec-d24389d1f79f",
   "metadata": {},
   "outputs": [
    {
     "name": "stdout",
     "output_type": "stream",
     "text": [
      "<class 'float'>\n"
     ]
    }
   ],
   "source": [
    "# Float\n",
    "f = 19.3\n",
    "f\n",
    "print(type(f))"
   ]
  },
  {
   "cell_type": "code",
   "execution_count": 13,
   "id": "d4ea495e-45c5-430d-9d95-9e78c10247e2",
   "metadata": {},
   "outputs": [
    {
     "name": "stdout",
     "output_type": "stream",
     "text": [
      "True False\n",
      "<class 'bool'>\n"
     ]
    }
   ],
   "source": [
    "# Bool\n",
    "t = True\n",
    "f = False\n",
    "print(t, f)\n",
    "print(type(t))"
   ]
  },
  {
   "cell_type": "markdown",
   "id": "2bcee348-8c0c-4b34-b872-9e6e5a187747",
   "metadata": {},
   "source": [
    "# List, Tuple, Set, Dict For Another Tutorial"
   ]
  }
 ],
 "metadata": {
  "kernelspec": {
   "display_name": "Python 3 (ipykernel)",
   "language": "python",
   "name": "python3"
  },
  "language_info": {
   "codemirror_mode": {
    "name": "ipython",
    "version": 3
   },
   "file_extension": ".py",
   "mimetype": "text/x-python",
   "name": "python",
   "nbconvert_exporter": "python",
   "pygments_lexer": "ipython3",
   "version": "3.11.7"
  }
 },
 "nbformat": 4,
 "nbformat_minor": 5
}

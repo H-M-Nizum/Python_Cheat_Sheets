{
 "cells": [
  {
   "cell_type": "markdown",
   "id": "afebb1d9-30bb-44ff-8987-40b1eb6f5074",
   "metadata": {},
   "source": [
    "## Python Operators\n",
    "> Operators are used to perform operations on variables and values."
   ]
  },
  {
   "cell_type": "markdown",
   "id": "6ac1df2b-5c11-478e-9296-d4c08e2863ea",
   "metadata": {},
   "source": [
    "### Python divides the operators in the following groups:\n",
    "\n",
    "- Arithmetic operators\n",
    "- Assignment operators\n",
    "- Comparison operators\n",
    "- Logical operators\n",
    "- Identity operators\n",
    "- Membership operators\n",
    "- Bitwise operators"
   ]
  },
  {
   "cell_type": "markdown",
   "id": "bf288782-2a46-4a50-be28-8a0b069447dc",
   "metadata": {},
   "source": [
    "## Python Arithmetic Operators\n",
    "- `+`\tAddition\n",
    "- `-`\tSubtraction\n",
    "- `*`\tMultiplication\n",
    "- `/`\tDivision\n",
    "- `%`\tModulus\n",
    "- `**`\tExponentiation\n",
    "- `//`\tFloor division"
   ]
  },
  {
   "cell_type": "code",
   "execution_count": 1,
   "id": "c1abe791-a1c0-48dc-8ec9-4e83ddc0d734",
   "metadata": {},
   "outputs": [
    {
     "data": {
      "text/plain": [
       "9"
      ]
     },
     "execution_count": 1,
     "metadata": {},
     "output_type": "execute_result"
    }
   ],
   "source": [
    "# Addition\n",
    "4 + 5"
   ]
  },
  {
   "cell_type": "code",
   "execution_count": 2,
   "id": "5274b405-a327-4bed-95f2-e95d481eaba2",
   "metadata": {},
   "outputs": [
    {
     "data": {
      "text/plain": [
       "5"
      ]
     },
     "execution_count": 2,
     "metadata": {},
     "output_type": "execute_result"
    }
   ],
   "source": [
    "# Subtraction\n",
    "9 - 4"
   ]
  },
  {
   "cell_type": "code",
   "execution_count": 3,
   "id": "1ac49d50-d5b4-4137-977a-c75a7553e2ed",
   "metadata": {},
   "outputs": [
    {
     "data": {
      "text/plain": [
       "20"
      ]
     },
     "execution_count": 3,
     "metadata": {},
     "output_type": "execute_result"
    }
   ],
   "source": [
    "# Multiplication\n",
    "4 * 5"
   ]
  },
  {
   "cell_type": "code",
   "execution_count": 4,
   "id": "1f4a028d-cf19-4326-8480-a1fbc4c218a2",
   "metadata": {},
   "outputs": [
    {
     "data": {
      "text/plain": [
       "6.666666666666667"
      ]
     },
     "execution_count": 4,
     "metadata": {},
     "output_type": "execute_result"
    }
   ],
   "source": [
    "# Division\n",
    "20 / 3"
   ]
  },
  {
   "cell_type": "code",
   "execution_count": 5,
   "id": "43309080-6e39-4292-9406-f71e890142cd",
   "metadata": {},
   "outputs": [
    {
     "data": {
      "text/plain": [
       "6"
      ]
     },
     "execution_count": 5,
     "metadata": {},
     "output_type": "execute_result"
    }
   ],
   "source": [
    "# Floor Division\n",
    "20 // 3"
   ]
  },
  {
   "cell_type": "code",
   "execution_count": 6,
   "id": "660b2832-4e97-4e03-9e76-d5598152808b",
   "metadata": {},
   "outputs": [
    {
     "data": {
      "text/plain": [
       "2"
      ]
     },
     "execution_count": 6,
     "metadata": {},
     "output_type": "execute_result"
    }
   ],
   "source": [
    "# Modulus\n",
    "20 % 3"
   ]
  },
  {
   "cell_type": "code",
   "execution_count": 7,
   "id": "493f28d2-7ea8-4330-a8f5-af99bd1e770b",
   "metadata": {},
   "outputs": [
    {
     "data": {
      "text/plain": [
       "4"
      ]
     },
     "execution_count": 7,
     "metadata": {},
     "output_type": "execute_result"
    }
   ],
   "source": [
    "# Exponentiation\n",
    "2 ** 2"
   ]
  },
  {
   "cell_type": "markdown",
   "id": "eefad4d0-6b90-4d4c-968a-39bb64977c7d",
   "metadata": {},
   "source": [
    "## Python Comparison Operators\n",
    "- `==`\tEqual\t\n",
    "- `!=`\tNot equal\t\n",
    "- `>`\tGreater than\t\n",
    "- `<`\tLess than\t\n",
    "- `>=`\tGreater than or equal to\t\n",
    "- `<=`\tLess than or equal to"
   ]
  },
  {
   "cell_type": "code",
   "execution_count": 8,
   "id": "a9d6d8ae-4dc9-40d6-8188-3b0be48a4c4b",
   "metadata": {},
   "outputs": [
    {
     "data": {
      "text/plain": [
       "True"
      ]
     },
     "execution_count": 8,
     "metadata": {},
     "output_type": "execute_result"
    }
   ],
   "source": [
    "# Equal\n",
    "2 == 2"
   ]
  },
  {
   "cell_type": "code",
   "execution_count": 9,
   "id": "c65d224a-a396-42f6-ab27-aa0d1860de87",
   "metadata": {},
   "outputs": [
    {
     "data": {
      "text/plain": [
       "False"
      ]
     },
     "execution_count": 9,
     "metadata": {},
     "output_type": "execute_result"
    }
   ],
   "source": [
    "3 == 2"
   ]
  },
  {
   "cell_type": "code",
   "execution_count": 10,
   "id": "a46a6644-e7c5-437f-b444-239c5a051a80",
   "metadata": {},
   "outputs": [
    {
     "data": {
      "text/plain": [
       "True"
      ]
     },
     "execution_count": 10,
     "metadata": {},
     "output_type": "execute_result"
    }
   ],
   "source": [
    "# Not Equal\n",
    "3 != 2"
   ]
  },
  {
   "cell_type": "code",
   "execution_count": 11,
   "id": "4ab7b690-1c5b-4538-9a2d-e0962ff3378d",
   "metadata": {},
   "outputs": [
    {
     "data": {
      "text/plain": [
       "False"
      ]
     },
     "execution_count": 11,
     "metadata": {},
     "output_type": "execute_result"
    }
   ],
   "source": [
    "3 != 3"
   ]
  },
  {
   "cell_type": "code",
   "execution_count": 12,
   "id": "a781948c-b7ef-4618-8662-0c2455b5084f",
   "metadata": {},
   "outputs": [
    {
     "data": {
      "text/plain": [
       "True"
      ]
     },
     "execution_count": 12,
     "metadata": {},
     "output_type": "execute_result"
    }
   ],
   "source": [
    "# Greater than\n",
    "3 > 2"
   ]
  },
  {
   "cell_type": "code",
   "execution_count": 13,
   "id": "4b595ea1-4a90-4907-ac35-f5d5acb3c397",
   "metadata": {},
   "outputs": [
    {
     "data": {
      "text/plain": [
       "True"
      ]
     },
     "execution_count": 13,
     "metadata": {},
     "output_type": "execute_result"
    }
   ],
   "source": [
    "# Less than\n",
    "3 < 5"
   ]
  },
  {
   "cell_type": "code",
   "execution_count": 14,
   "id": "adc8fdb2-9681-474f-bb9d-7ece95ffe8b4",
   "metadata": {},
   "outputs": [
    {
     "data": {
      "text/plain": [
       "True"
      ]
     },
     "execution_count": 14,
     "metadata": {},
     "output_type": "execute_result"
    }
   ],
   "source": [
    "# Greater than or equal to\n",
    "4 >= 3"
   ]
  },
  {
   "cell_type": "code",
   "execution_count": 15,
   "id": "9b703883-4dfd-4e7a-977e-184312f4e8b0",
   "metadata": {},
   "outputs": [
    {
     "data": {
      "text/plain": [
       "True"
      ]
     },
     "execution_count": 15,
     "metadata": {},
     "output_type": "execute_result"
    }
   ],
   "source": [
    "4 >= 4"
   ]
  },
  {
   "cell_type": "code",
   "execution_count": 16,
   "id": "109f54ed-0dd6-4c40-9f3c-bd80fc7d7a53",
   "metadata": {},
   "outputs": [
    {
     "data": {
      "text/plain": [
       "False"
      ]
     },
     "execution_count": 16,
     "metadata": {},
     "output_type": "execute_result"
    }
   ],
   "source": [
    "# Less than or equal to\n",
    "4 <= 3"
   ]
  },
  {
   "cell_type": "code",
   "execution_count": 17,
   "id": "8e77feb8-1dc4-424d-a4cd-a3ed249107f4",
   "metadata": {},
   "outputs": [
    {
     "data": {
      "text/plain": [
       "True"
      ]
     },
     "execution_count": 17,
     "metadata": {},
     "output_type": "execute_result"
    }
   ],
   "source": [
    "3 <= 4"
   ]
  },
  {
   "cell_type": "markdown",
   "id": "07ae758c-a188-419a-8168-da2fe1629504",
   "metadata": {},
   "source": [
    "## Python Assignment Operators\n",
    "- `=` Assigns the right-hand operand to the left-hand operand.\n",
    "- `+=` Adds the two side operands and assigns the sum to the left side operand.\n",
    "- `-=` Subtracts the right-hand operand from the left-hand operand and assigns the subtraction to the left-hand operand.\n",
    "- `*=` Multiplies one of the two side operands by the other and assigns the product to the left side operand.\n",
    "- `/=` Divides the left-hand operand by the right-hand operand and assigns the quotient to the left-hand operand.\n",
    "- `%=` Modulus the left-hand operand by the right-hand operand and assigns the quotient to the left-hand operand.\n",
    "- `//=` Floor Divides the left-hand operand by the right-hand operand and assigns the quotient to the left-hand operand.\n",
    "- `**=` Exponentiation the left-hand operand by the right-hand operand and assigns the quotient to the left-hand operand."
   ]
  },
  {
   "cell_type": "code",
   "execution_count": 19,
   "id": "3b6a863d-52eb-4727-b254-e6ddb2faf45f",
   "metadata": {},
   "outputs": [
    {
     "data": {
      "text/plain": [
       "8"
      ]
     },
     "execution_count": 19,
     "metadata": {},
     "output_type": "execute_result"
    }
   ],
   "source": [
    "# Assign\n",
    "x = 8\n",
    "x"
   ]
  },
  {
   "cell_type": "code",
   "execution_count": 21,
   "id": "d2da06aa-ebca-44b2-8a22-eb5c081fb912",
   "metadata": {},
   "outputs": [
    {
     "data": {
      "text/plain": [
       "14"
      ]
     },
     "execution_count": 21,
     "metadata": {},
     "output_type": "execute_result"
    }
   ],
   "source": [
    "# Addition and Assign\n",
    "x += 3\n",
    "x"
   ]
  },
  {
   "cell_type": "code",
   "execution_count": 22,
   "id": "d358ff19-32e9-4b44-9b22-45cd18ea9095",
   "metadata": {},
   "outputs": [
    {
     "data": {
      "text/plain": [
       "10"
      ]
     },
     "execution_count": 22,
     "metadata": {},
     "output_type": "execute_result"
    }
   ],
   "source": [
    "# Subtraction and Assign\n",
    "x -= 4\n",
    "x"
   ]
  },
  {
   "cell_type": "code",
   "execution_count": 24,
   "id": "df50c12f-ca20-4345-8c67-70dc80dd382c",
   "metadata": {},
   "outputs": [
    {
     "data": {
      "text/plain": [
       "40"
      ]
     },
     "execution_count": 24,
     "metadata": {},
     "output_type": "execute_result"
    }
   ],
   "source": [
    "# Multiplication and Assign\n",
    "x *= 2\n",
    "x"
   ]
  },
  {
   "cell_type": "code",
   "execution_count": 26,
   "id": "2cdd5bc6-9272-4354-b31c-9b84dfa251f4",
   "metadata": {},
   "outputs": [
    {
     "data": {
      "text/plain": [
       "2.5"
      ]
     },
     "execution_count": 26,
     "metadata": {},
     "output_type": "execute_result"
    }
   ],
   "source": [
    "# Divition and Assign\n",
    "x /= 4\n",
    "x"
   ]
  },
  {
   "cell_type": "code",
   "execution_count": 31,
   "id": "845821e6-ef19-4659-b136-9de53dd762b6",
   "metadata": {},
   "outputs": [
    {
     "data": {
      "text/plain": [
       "1"
      ]
     },
     "execution_count": 31,
     "metadata": {},
     "output_type": "execute_result"
    }
   ],
   "source": [
    "# Modulus and Assign\n",
    "x = 10\n",
    "x %= 3\n",
    "x"
   ]
  },
  {
   "cell_type": "code",
   "execution_count": 32,
   "id": "5c3ffd65-7cf0-4631-9706-7533649ade59",
   "metadata": {},
   "outputs": [
    {
     "data": {
      "text/plain": [
       "3"
      ]
     },
     "execution_count": 32,
     "metadata": {},
     "output_type": "execute_result"
    }
   ],
   "source": [
    "# Floor Divition and Assign\n",
    "x = 10\n",
    "x //= 3\n",
    "x"
   ]
  },
  {
   "cell_type": "code",
   "execution_count": 34,
   "id": "7863e5c6-cf26-4fd8-87c9-93dab355cf73",
   "metadata": {},
   "outputs": [
    {
     "data": {
      "text/plain": [
       "9"
      ]
     },
     "execution_count": 34,
     "metadata": {},
     "output_type": "execute_result"
    }
   ],
   "source": [
    "# Exponentiation and Assign\n",
    "x **= 2\n",
    "x"
   ]
  },
  {
   "cell_type": "markdown",
   "id": "7eca3c1d-a493-43ff-b532-23bc728f9d6f",
   "metadata": {},
   "source": [
    "## Python Logical Operators\n",
    "- `and` \tReturns True if both statements are true\t\n",
    "- `or`\tReturns True if one of the statements is true\t\n",
    "- `not`\tReverse the result, returns False if the result is true"
   ]
  },
  {
   "cell_type": "code",
   "execution_count": 36,
   "id": "54ace885-a83c-4591-871d-953691a13eb4",
   "metadata": {},
   "outputs": [
    {
     "data": {
      "text/plain": [
       "True"
      ]
     },
     "execution_count": 36,
     "metadata": {},
     "output_type": "execute_result"
    }
   ],
   "source": [
    "# and operator\n",
    "2 ==2 and 3==3"
   ]
  },
  {
   "cell_type": "code",
   "execution_count": 37,
   "id": "c2ebdc16-ccef-417d-bd1d-796897cbd3d5",
   "metadata": {},
   "outputs": [
    {
     "data": {
      "text/plain": [
       "False"
      ]
     },
     "execution_count": 37,
     "metadata": {},
     "output_type": "execute_result"
    }
   ],
   "source": [
    "2 ==2 and 3==4"
   ]
  },
  {
   "cell_type": "code",
   "execution_count": 38,
   "id": "4f0f1d29-99d2-4cf1-bfc9-4311d747fd85",
   "metadata": {},
   "outputs": [
    {
     "data": {
      "text/plain": [
       "True"
      ]
     },
     "execution_count": 38,
     "metadata": {},
     "output_type": "execute_result"
    }
   ],
   "source": [
    "# or operator\n",
    "2 ==2 or 3==3"
   ]
  },
  {
   "cell_type": "code",
   "execution_count": 39,
   "id": "d466a97d-d9c0-4624-a5a4-02573c64db41",
   "metadata": {},
   "outputs": [
    {
     "data": {
      "text/plain": [
       "True"
      ]
     },
     "execution_count": 39,
     "metadata": {},
     "output_type": "execute_result"
    }
   ],
   "source": [
    "2==2 or 3==4"
   ]
  },
  {
   "cell_type": "code",
   "execution_count": 42,
   "id": "d0969bbc-2708-4e2d-bb77-922c1284c3ea",
   "metadata": {},
   "outputs": [
    {
     "data": {
      "text/plain": [
       "False"
      ]
     },
     "execution_count": 42,
     "metadata": {},
     "output_type": "execute_result"
    }
   ],
   "source": [
    "# not operator\n",
    "not 2 == 2"
   ]
  },
  {
   "cell_type": "markdown",
   "id": "51ec89fc-7ee6-442d-9986-c8512c4717e4",
   "metadata": {},
   "source": [
    "## Python Membership Operators\n",
    "- `in` \tReturns True if a sequence with the specified value is present in the object\r",
    "- `\n",
    "not i`n\tReturns True if a sequence with the specified value is not present in the object"
   ]
  },
  {
   "cell_type": "code",
   "execution_count": 43,
   "id": "22d6a3a6-bb41-4cbb-9a68-ea0cfb289c1a",
   "metadata": {},
   "outputs": [
    {
     "name": "stdout",
     "output_type": "stream",
     "text": [
      "False\n",
      "True\n"
     ]
    }
   ],
   "source": [
    "# in operator\n",
    "a = 'ZeroPY python'\n",
    "b = 'python'\n",
    "print(a in b)\n",
    "print(b in a)"
   ]
  },
  {
   "cell_type": "code",
   "execution_count": 44,
   "id": "b611bb97-15a9-441c-8d0a-31a926b25f2b",
   "metadata": {},
   "outputs": [
    {
     "name": "stdout",
     "output_type": "stream",
     "text": [
      "False\n"
     ]
    }
   ],
   "source": [
    "# not in operator\n",
    "print(b not in a)"
   ]
  },
  {
   "cell_type": "markdown",
   "id": "b9212071-80dc-4170-92d3-96b72da7c37c",
   "metadata": {},
   "source": [
    "## Python Identity Operators\n",
    "- `is` \tReturns True if both variables are the same object\r",
    "- `\n",
    "is no`t\tReturns True if both variables are not the same object"
   ]
  },
  {
   "cell_type": "code",
   "execution_count": 45,
   "id": "89c49b47-7ab3-40eb-8a72-233d0286294c",
   "metadata": {},
   "outputs": [
    {
     "name": "stdout",
     "output_type": "stream",
     "text": [
      "True\n"
     ]
    }
   ],
   "source": [
    "# is operator\n",
    "c = 20\n",
    "b = 20\n",
    "print(c is b)"
   ]
  },
  {
   "cell_type": "code",
   "execution_count": 46,
   "id": "abba07d5-de0e-4e82-999b-a03a61700e69",
   "metadata": {},
   "outputs": [
    {
     "name": "stdout",
     "output_type": "stream",
     "text": [
      "False\n"
     ]
    }
   ],
   "source": [
    "d = 300\n",
    "e = 300\n",
    "print(d is e)"
   ]
  },
  {
   "cell_type": "code",
   "execution_count": 47,
   "id": "684392e6-1d85-4b39-93d0-3b60565fd10a",
   "metadata": {},
   "outputs": [
    {
     "name": "stdout",
     "output_type": "stream",
     "text": [
      "False\n"
     ]
    }
   ],
   "source": [
    "# is not operator\n",
    "print(b is not c)"
   ]
  },
  {
   "cell_type": "markdown",
   "id": "706f1386-9c95-46ad-8634-5d3e5f6dd9e6",
   "metadata": {},
   "source": [
    "# Python bitwise operator will be discussed in another tutorial."
   ]
  }
 ],
 "metadata": {
  "kernelspec": {
   "display_name": "Python 3 (ipykernel)",
   "language": "python",
   "name": "python3"
  },
  "language_info": {
   "codemirror_mode": {
    "name": "ipython",
    "version": 3
   },
   "file_extension": ".py",
   "mimetype": "text/x-python",
   "name": "python",
   "nbconvert_exporter": "python",
   "pygments_lexer": "ipython3",
   "version": "3.11.7"
  }
 },
 "nbformat": 4,
 "nbformat_minor": 5
}

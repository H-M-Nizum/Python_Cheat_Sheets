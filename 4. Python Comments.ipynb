{
 "cells": [
  {
   "cell_type": "markdown",
   "id": "46ea3327-b081-47c5-a9cc-31caa315472d",
   "metadata": {},
   "source": [
    "## Python Comments\n",
    ">Comments can be used to explain Python code, make the code more readable."
   ]
  },
  {
   "cell_type": "markdown",
   "id": "d8d26690-2f20-41b3-996b-1753d8fec39d",
   "metadata": {},
   "source": [
    "### Creating a Comment\n",
    ">Comments starts with a `#`"
   ]
  },
  {
   "cell_type": "code",
   "execution_count": 2,
   "id": "9fb57f7e-cd5c-4016-96a9-0c83aaacf7cb",
   "metadata": {},
   "outputs": [
    {
     "data": {
      "text/plain": [
       "10"
      ]
     },
     "execution_count": 2,
     "metadata": {},
     "output_type": "execute_result"
    }
   ],
   "source": [
    "a = 10  # a is a  int variable\n",
    "a"
   ]
  },
  {
   "cell_type": "code",
   "execution_count": 3,
   "id": "8ab89317-1cf0-4f86-9c07-8f5bac3aa82f",
   "metadata": {},
   "outputs": [
    {
     "data": {
      "text/plain": [
       "30"
      ]
     },
     "execution_count": 3,
     "metadata": {},
     "output_type": "execute_result"
    }
   ],
   "source": [
    "# Comments can be placed at the end of line\n",
    "b = 30 # b is a int variable and this comment placed at the end of line\n",
    "b"
   ]
  },
  {
   "cell_type": "markdown",
   "id": "dde00f86-9911-47e3-acd7-f04e757369e0",
   "metadata": {},
   "source": [
    "### Multiline Comments\n",
    ">To add a multiline comment you could insert a `#` for each line."
   ]
  },
  {
   "cell_type": "code",
   "execution_count": 4,
   "id": "50932e49-0a39-4979-979a-16ade1476eb5",
   "metadata": {},
   "outputs": [
    {
     "data": {
      "text/plain": [
       "40"
      ]
     },
     "execution_count": 4,
     "metadata": {},
     "output_type": "execute_result"
    }
   ],
   "source": [
    "# python does not really have a syntex for multiline comments\n",
    "b = 40\n",
    "#b is a int variable\n",
    "# = is a assignment operators\n",
    "# 40 is a value\n",
    "# this is way for multiline commments in python\n",
    "b"
   ]
  },
  {
   "cell_type": "code",
   "execution_count": 5,
   "id": "eeba4fba-db96-4344-aa04-3f98d4a8284a",
   "metadata": {},
   "outputs": [],
   "source": [
    "# Thank you"
   ]
  },
  {
   "cell_type": "code",
   "execution_count": null,
   "id": "575ac0fb-af7a-4a0b-bd77-eecdc0fabd2e",
   "metadata": {},
   "outputs": [],
   "source": []
  }
 ],
 "metadata": {
  "kernelspec": {
   "display_name": "Python 3 (ipykernel)",
   "language": "python",
   "name": "python3"
  },
  "language_info": {
   "codemirror_mode": {
    "name": "ipython",
    "version": 3
   },
   "file_extension": ".py",
   "mimetype": "text/x-python",
   "name": "python",
   "nbconvert_exporter": "python",
   "pygments_lexer": "ipython3",
   "version": "3.11.7"
  }
 },
 "nbformat": 4,
 "nbformat_minor": 5
}
